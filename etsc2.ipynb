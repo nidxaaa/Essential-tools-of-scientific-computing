{
  "nbformat": 4,
  "nbformat_minor": 0,
  "metadata": {
    "colab": {
      "provenance": []
    },
    "kernelspec": {
      "name": "python3",
      "display_name": "Python 3"
    },
    "language_info": {
      "name": "python"
    }
  },
  "cells": [
    {
      "cell_type": "code",
      "execution_count": null,
      "metadata": {
        "colab": {
          "base_uri": "https://localhost:8080/"
        },
        "id": "cSEidBtU4V0_",
        "outputId": "db2c98f0-99b5-470e-d2a3-a1cd059b7f6f"
      },
      "outputs": [
        {
          "output_type": "stream",
          "name": "stdout",
          "text": [
            "hello\n"
          ]
        }
      ],
      "source": [
        "s=('hello')\n",
        "print(s)"
      ]
    },
    {
      "cell_type": "code",
      "source": [
        "#2. string manipulation\n",
        "s=\"hello\"\n",
        "print (s)\n",
        "#print (s[0],s[1],s[-1],s[-2], len (s))\n",
        "# negative indicates loop starting from end as -1\n",
        "#print(s[0],s[1],s[2],s[3],s[4])\n",
        "#print (s[0],s[-1],s[-2])\n",
        "#print (s[5])\n",
        "print (s+ \" world\")\n",
        "print (s + \" world\" + \" nida\")"
      ],
      "metadata": {
        "colab": {
          "base_uri": "https://localhost:8080/"
        },
        "id": "DDaXrTyT4rH9",
        "outputId": "42f7ca95-94a2-4ace-b54e-147b29f496a4"
      },
      "execution_count": null,
      "outputs": [
        {
          "output_type": "stream",
          "name": "stdout",
          "text": [
            "hello\n",
            "hello world\n",
            "hello world nida\n"
          ]
        }
      ]
    },
    {
      "cell_type": "code",
      "source": [
        "#3. string is immutable\n",
        "s='hello'\n",
        "print(s)\n",
        "type(s)\n",
        "\n",
        "s[1]= 'b'\n",
        "#it wouldnt work"
      ],
      "metadata": {
        "colab": {
          "base_uri": "https://localhost:8080/",
          "height": 227
        },
        "id": "kkDkTMM165wK",
        "outputId": "d677d605-9ce0-44ac-bbc5-2b6826565f45"
      },
      "execution_count": null,
      "outputs": [
        {
          "output_type": "stream",
          "name": "stdout",
          "text": [
            "hello\n"
          ]
        },
        {
          "output_type": "error",
          "ename": "TypeError",
          "evalue": "ignored",
          "traceback": [
            "\u001b[0;31m---------------------------------------------------------------------------\u001b[0m",
            "\u001b[0;31mTypeError\u001b[0m                                 Traceback (most recent call last)",
            "\u001b[0;32m<ipython-input-18-969933f016c2>\u001b[0m in \u001b[0;36m<cell line: 6>\u001b[0;34m()\u001b[0m\n\u001b[1;32m      4\u001b[0m \u001b[0mtype\u001b[0m\u001b[0;34m(\u001b[0m\u001b[0ms\u001b[0m\u001b[0;34m)\u001b[0m\u001b[0;34m\u001b[0m\u001b[0;34m\u001b[0m\u001b[0m\n\u001b[1;32m      5\u001b[0m \u001b[0;34m\u001b[0m\u001b[0m\n\u001b[0;32m----> 6\u001b[0;31m \u001b[0ms\u001b[0m\u001b[0;34m[\u001b[0m\u001b[0;36m1\u001b[0m\u001b[0;34m]\u001b[0m\u001b[0;34m=\u001b[0m \u001b[0;34m'b'\u001b[0m\u001b[0;34m\u001b[0m\u001b[0;34m\u001b[0m\u001b[0m\n\u001b[0m",
            "\u001b[0;31mTypeError\u001b[0m: 'str' object does not support item assignment"
          ]
        }
      ]
    },
    {
      "cell_type": "code",
      "source": [
        "#4. strings and integer\n",
        "s='hello'\n",
        "print(s)\n",
        "num=10\n",
        "print(num)\n",
        "#print (s+num) #gives error\n",
        "print (s + str(num)) #gives error if previous line is not added as comment"
      ],
      "metadata": {
        "colab": {
          "base_uri": "https://localhost:8080/"
        },
        "id": "uOfEpa_M7psy",
        "outputId": "006c6e78-7644-49ee-a1d6-95892abc90e4"
      },
      "execution_count": null,
      "outputs": [
        {
          "output_type": "stream",
          "name": "stdout",
          "text": [
            "hello\n",
            "10\n",
            "hello10\n"
          ]
        }
      ]
    },
    {
      "cell_type": "code",
      "source": [
        "#5. string methods\n",
        "s=\" HelloNIda \"\n",
        "print(s.lower())\n",
        "print(s.upper())\n",
        "print(s.strip())\n",
        "print(s.isalpha())\n",
        "print(s.isdigit())\n",
        "print(s.isspace())\n"
      ],
      "metadata": {
        "colab": {
          "base_uri": "https://localhost:8080/"
        },
        "id": "SJm81F_38zbL",
        "outputId": "af0d3f21-7eca-47d4-c2a5-116ce4ea1c6e"
      },
      "execution_count": null,
      "outputs": [
        {
          "output_type": "stream",
          "name": "stdout",
          "text": [
            " hellonida \n",
            " HELLONIDA \n",
            "HelloNIda\n",
            "False\n",
            "False\n",
            "False\n"
          ]
        }
      ]
    },
    {
      "cell_type": "code",
      "source": [
        "s=\"Hello\"\n",
        "print(s[1:3])\n",
        "print('\\n')\n",
        "\n",
        "print(s[1:])\n",
        "print('\\n')\n",
        "\n",
        "print(s[-4:3])"
      ],
      "metadata": {
        "colab": {
          "base_uri": "https://localhost:8080/"
        },
        "id": "kS0LDNg_Agx5",
        "outputId": "9bef9018-1ff7-42b5-d91a-b090c51c42ac"
      },
      "execution_count": null,
      "outputs": [
        {
          "output_type": "stream",
          "name": "stdout",
          "text": [
            "el\n",
            "\n",
            "\n",
            "ello\n",
            "\n",
            "\n",
            "el\n"
          ]
        }
      ]
    },
    {
      "cell_type": "code",
      "source": [
        "#strings old way of printing\n",
        "str1='hello %s, %d' %('world',10)\n",
        "print(str1)"
      ],
      "metadata": {
        "colab": {
          "base_uri": "https://localhost:8080/"
        },
        "id": "O6StxONwBEYL",
        "outputId": "de56b194-d9cf-4a1b-937c-75f7bc43c6ef"
      },
      "execution_count": null,
      "outputs": [
        {
          "output_type": "stream",
          "name": "stdout",
          "text": [
            "hello world, 10\n"
          ]
        }
      ]
    },
    {
      "cell_type": "code",
      "source": [
        "#new style\n",
        "str2='Hello{}, {}'.format('world',10)\n",
        "print(str2)\n",
        "\n",
        "str3='Hello {wd}, {num}'.format(num=10, wd='World')\n",
        "print(str3)\n",
        "\n",
        "str4= 'Hello {wd:10}, {num:.3f}'.format(num=10.0, wd='World')\n",
        "print(str4)"
      ],
      "metadata": {
        "colab": {
          "base_uri": "https://localhost:8080/"
        },
        "id": "T7LxauKlBiIp",
        "outputId": "4d4ceff1-d747-4868-f93c-1654d1374572"
      },
      "execution_count": null,
      "outputs": [
        {
          "output_type": "stream",
          "name": "stdout",
          "text": [
            "Helloworld, 10\n",
            "Hello World, 10\n",
            "Hello World     , 10.000\n"
          ]
        }
      ]
    },
    {
      "cell_type": "code",
      "source": [
        "#if statement\n",
        "num=3\n",
        "print(num)\n",
        "if num < 5:\n",
        "  print('num is smaller than 5')\n",
        "\n",
        "if num > 5:\n",
        "  print ('num is greater than 5')\n",
        "elif num== 5 :\n",
        "  print('num is 5')\n",
        "else:\n",
        "  print ('num is smaller than 5')"
      ],
      "metadata": {
        "colab": {
          "base_uri": "https://localhost:8080/"
        },
        "id": "_pI0PACVC5Sa",
        "outputId": "00d3e92c-15b0-427b-e0be-926daacc6f0a"
      },
      "execution_count": null,
      "outputs": [
        {
          "output_type": "stream",
          "name": "stdout",
          "text": [
            "3\n",
            "num is smaller than 5\n",
            "num is smaller than 5\n"
          ]
        }
      ]
    },
    {
      "cell_type": "code",
      "source": [
        "#Function calls\n",
        "print (type(32))\n",
        "type(32)\n",
        "print(int(32))\n",
        "\n",
        "#int('hello')\n",
        "print (int (-2.3))\n",
        "\n",
        "import math\n",
        "print(math.sin(3.1416))\n",
        "print(math.cos(3.1416))\n",
        "print(math.tan(3.1416))\n",
        "print(math.asin(0))\n",
        "print(math.acos(0))\n",
        "print(math.atan(0))\n",
        "print(math.sqrt(4))\n",
        "\n",
        "\n",
        "help('math') #similar to manual in bash\n",
        "print(math.copysign(1,-2))\n",
        "print(math.degrees(3.14))\n",
        "print(math.floor(-3.45))\n",
        "print(math.radians(90))"
      ],
      "metadata": {
        "colab": {
          "base_uri": "https://localhost:8080/"
        },
        "id": "p_AS_HM8EQ_z",
        "outputId": "d1b9e380-47f7-4ab4-9c9b-092ce36a648a"
      },
      "execution_count": null,
      "outputs": [
        {
          "output_type": "stream",
          "name": "stdout",
          "text": [
            "<class 'int'>\n",
            "32\n",
            "-2\n",
            "-7.346410206643587e-06\n",
            "-0.9999999999730151\n",
            "7.346410206841829e-06\n",
            "0.0\n",
            "1.5707963267948966\n",
            "0.0\n",
            "2.0\n",
            "Help on built-in module math:\n",
            "\n",
            "NAME\n",
            "    math\n",
            "\n",
            "DESCRIPTION\n",
            "    This module provides access to the mathematical functions\n",
            "    defined by the C standard.\n",
            "\n",
            "FUNCTIONS\n",
            "    acos(x, /)\n",
            "        Return the arc cosine (measured in radians) of x.\n",
            "        \n",
            "        The result is between 0 and pi.\n",
            "    \n",
            "    acosh(x, /)\n",
            "        Return the inverse hyperbolic cosine of x.\n",
            "    \n",
            "    asin(x, /)\n",
            "        Return the arc sine (measured in radians) of x.\n",
            "        \n",
            "        The result is between -pi/2 and pi/2.\n",
            "    \n",
            "    asinh(x, /)\n",
            "        Return the inverse hyperbolic sine of x.\n",
            "    \n",
            "    atan(x, /)\n",
            "        Return the arc tangent (measured in radians) of x.\n",
            "        \n",
            "        The result is between -pi/2 and pi/2.\n",
            "    \n",
            "    atan2(y, x, /)\n",
            "        Return the arc tangent (measured in radians) of y/x.\n",
            "        \n",
            "        Unlike atan(y/x), the signs of both x and y are considered.\n",
            "    \n",
            "    atanh(x, /)\n",
            "        Return the inverse hyperbolic tangent of x.\n",
            "    \n",
            "    ceil(x, /)\n",
            "        Return the ceiling of x as an Integral.\n",
            "        \n",
            "        This is the smallest integer >= x.\n",
            "    \n",
            "    comb(n, k, /)\n",
            "        Number of ways to choose k items from n items without repetition and without order.\n",
            "        \n",
            "        Evaluates to n! / (k! * (n - k)!) when k <= n and evaluates\n",
            "        to zero when k > n.\n",
            "        \n",
            "        Also called the binomial coefficient because it is equivalent\n",
            "        to the coefficient of k-th term in polynomial expansion of the\n",
            "        expression (1 + x)**n.\n",
            "        \n",
            "        Raises TypeError if either of the arguments are not integers.\n",
            "        Raises ValueError if either of the arguments are negative.\n",
            "    \n",
            "    copysign(x, y, /)\n",
            "        Return a float with the magnitude (absolute value) of x but the sign of y.\n",
            "        \n",
            "        On platforms that support signed zeros, copysign(1.0, -0.0)\n",
            "        returns -1.0.\n",
            "    \n",
            "    cos(x, /)\n",
            "        Return the cosine of x (measured in radians).\n",
            "    \n",
            "    cosh(x, /)\n",
            "        Return the hyperbolic cosine of x.\n",
            "    \n",
            "    degrees(x, /)\n",
            "        Convert angle x from radians to degrees.\n",
            "    \n",
            "    dist(p, q, /)\n",
            "        Return the Euclidean distance between two points p and q.\n",
            "        \n",
            "        The points should be specified as sequences (or iterables) of\n",
            "        coordinates.  Both inputs must have the same dimension.\n",
            "        \n",
            "        Roughly equivalent to:\n",
            "            sqrt(sum((px - qx) ** 2.0 for px, qx in zip(p, q)))\n",
            "    \n",
            "    erf(x, /)\n",
            "        Error function at x.\n",
            "    \n",
            "    erfc(x, /)\n",
            "        Complementary error function at x.\n",
            "    \n",
            "    exp(x, /)\n",
            "        Return e raised to the power of x.\n",
            "    \n",
            "    expm1(x, /)\n",
            "        Return exp(x)-1.\n",
            "        \n",
            "        This function avoids the loss of precision involved in the direct evaluation of exp(x)-1 for small x.\n",
            "    \n",
            "    fabs(x, /)\n",
            "        Return the absolute value of the float x.\n",
            "    \n",
            "    factorial(x, /)\n",
            "        Find x!.\n",
            "        \n",
            "        Raise a ValueError if x is negative or non-integral.\n",
            "    \n",
            "    floor(x, /)\n",
            "        Return the floor of x as an Integral.\n",
            "        \n",
            "        This is the largest integer <= x.\n",
            "    \n",
            "    fmod(x, y, /)\n",
            "        Return fmod(x, y), according to platform C.\n",
            "        \n",
            "        x % y may differ.\n",
            "    \n",
            "    frexp(x, /)\n",
            "        Return the mantissa and exponent of x, as pair (m, e).\n",
            "        \n",
            "        m is a float and e is an int, such that x = m * 2.**e.\n",
            "        If x is 0, m and e are both 0.  Else 0.5 <= abs(m) < 1.0.\n",
            "    \n",
            "    fsum(seq, /)\n",
            "        Return an accurate floating point sum of values in the iterable seq.\n",
            "        \n",
            "        Assumes IEEE-754 floating point arithmetic.\n",
            "    \n",
            "    gamma(x, /)\n",
            "        Gamma function at x.\n",
            "    \n",
            "    gcd(*integers)\n",
            "        Greatest Common Divisor.\n",
            "    \n",
            "    hypot(...)\n",
            "        hypot(*coordinates) -> value\n",
            "        \n",
            "        Multidimensional Euclidean distance from the origin to a point.\n",
            "        \n",
            "        Roughly equivalent to:\n",
            "            sqrt(sum(x**2 for x in coordinates))\n",
            "        \n",
            "        For a two dimensional point (x, y), gives the hypotenuse\n",
            "        using the Pythagorean theorem:  sqrt(x*x + y*y).\n",
            "        \n",
            "        For example, the hypotenuse of a 3/4/5 right triangle is:\n",
            "        \n",
            "            >>> hypot(3.0, 4.0)\n",
            "            5.0\n",
            "    \n",
            "    isclose(a, b, *, rel_tol=1e-09, abs_tol=0.0)\n",
            "        Determine whether two floating point numbers are close in value.\n",
            "        \n",
            "          rel_tol\n",
            "            maximum difference for being considered \"close\", relative to the\n",
            "            magnitude of the input values\n",
            "          abs_tol\n",
            "            maximum difference for being considered \"close\", regardless of the\n",
            "            magnitude of the input values\n",
            "        \n",
            "        Return True if a is close in value to b, and False otherwise.\n",
            "        \n",
            "        For the values to be considered close, the difference between them\n",
            "        must be smaller than at least one of the tolerances.\n",
            "        \n",
            "        -inf, inf and NaN behave similarly to the IEEE 754 Standard.  That\n",
            "        is, NaN is not close to anything, even itself.  inf and -inf are\n",
            "        only close to themselves.\n",
            "    \n",
            "    isfinite(x, /)\n",
            "        Return True if x is neither an infinity nor a NaN, and False otherwise.\n",
            "    \n",
            "    isinf(x, /)\n",
            "        Return True if x is a positive or negative infinity, and False otherwise.\n",
            "    \n",
            "    isnan(x, /)\n",
            "        Return True if x is a NaN (not a number), and False otherwise.\n",
            "    \n",
            "    isqrt(n, /)\n",
            "        Return the integer part of the square root of the input.\n",
            "    \n",
            "    lcm(*integers)\n",
            "        Least Common Multiple.\n",
            "    \n",
            "    ldexp(x, i, /)\n",
            "        Return x * (2**i).\n",
            "        \n",
            "        This is essentially the inverse of frexp().\n",
            "    \n",
            "    lgamma(x, /)\n",
            "        Natural logarithm of absolute value of Gamma function at x.\n",
            "    \n",
            "    log(...)\n",
            "        log(x, [base=math.e])\n",
            "        Return the logarithm of x to the given base.\n",
            "        \n",
            "        If the base not specified, returns the natural logarithm (base e) of x.\n",
            "    \n",
            "    log10(x, /)\n",
            "        Return the base 10 logarithm of x.\n",
            "    \n",
            "    log1p(x, /)\n",
            "        Return the natural logarithm of 1+x (base e).\n",
            "        \n",
            "        The result is computed in a way which is accurate for x near zero.\n",
            "    \n",
            "    log2(x, /)\n",
            "        Return the base 2 logarithm of x.\n",
            "    \n",
            "    modf(x, /)\n",
            "        Return the fractional and integer parts of x.\n",
            "        \n",
            "        Both results carry the sign of x and are floats.\n",
            "    \n",
            "    nextafter(x, y, /)\n",
            "        Return the next floating-point value after x towards y.\n",
            "    \n",
            "    perm(n, k=None, /)\n",
            "        Number of ways to choose k items from n items without repetition and with order.\n",
            "        \n",
            "        Evaluates to n! / (n - k)! when k <= n and evaluates\n",
            "        to zero when k > n.\n",
            "        \n",
            "        If k is not specified or is None, then k defaults to n\n",
            "        and the function returns n!.\n",
            "        \n",
            "        Raises TypeError if either of the arguments are not integers.\n",
            "        Raises ValueError if either of the arguments are negative.\n",
            "    \n",
            "    pow(x, y, /)\n",
            "        Return x**y (x to the power of y).\n",
            "    \n",
            "    prod(iterable, /, *, start=1)\n",
            "        Calculate the product of all the elements in the input iterable.\n",
            "        \n",
            "        The default start value for the product is 1.\n",
            "        \n",
            "        When the iterable is empty, return the start value.  This function is\n",
            "        intended specifically for use with numeric values and may reject\n",
            "        non-numeric types.\n",
            "    \n",
            "    radians(x, /)\n",
            "        Convert angle x from degrees to radians.\n",
            "    \n",
            "    remainder(x, y, /)\n",
            "        Difference between x and the closest integer multiple of y.\n",
            "        \n",
            "        Return x - n*y where n*y is the closest integer multiple of y.\n",
            "        In the case where x is exactly halfway between two multiples of\n",
            "        y, the nearest even value of n is used. The result is always exact.\n",
            "    \n",
            "    sin(x, /)\n",
            "        Return the sine of x (measured in radians).\n",
            "    \n",
            "    sinh(x, /)\n",
            "        Return the hyperbolic sine of x.\n",
            "    \n",
            "    sqrt(x, /)\n",
            "        Return the square root of x.\n",
            "    \n",
            "    tan(x, /)\n",
            "        Return the tangent of x (measured in radians).\n",
            "    \n",
            "    tanh(x, /)\n",
            "        Return the hyperbolic tangent of x.\n",
            "    \n",
            "    trunc(x, /)\n",
            "        Truncates the Real x to the nearest Integral toward 0.\n",
            "        \n",
            "        Uses the __trunc__ magic method.\n",
            "    \n",
            "    ulp(x, /)\n",
            "        Return the value of the least significant bit of the float x.\n",
            "\n",
            "DATA\n",
            "    e = 2.718281828459045\n",
            "    inf = inf\n",
            "    nan = nan\n",
            "    pi = 3.141592653589793\n",
            "    tau = 6.283185307179586\n",
            "\n",
            "FILE\n",
            "    (built-in)\n",
            "\n",
            "\n",
            "-1.0\n",
            "179.9087476710785\n",
            "-4\n",
            "1.5707963267948966\n"
          ]
        }
      ]
    },
    {
      "cell_type": "code",
      "source": [
        "#define functions\n",
        "def print_name():\n",
        "  print(\"Iam Nida\")\n",
        "  print(\"Ïam always blah blah\")\n",
        "\n",
        "print_name()"
      ],
      "metadata": {
        "colab": {
          "base_uri": "https://localhost:8080/"
        },
        "id": "mKwArgn5H5t7",
        "outputId": "30286b55-89a6-4d02-ea48-564dc9a89121"
      },
      "execution_count": null,
      "outputs": [
        {
          "output_type": "stream",
          "name": "stdout",
          "text": [
            "Iam Nida\n",
            "Ïam always blah blah\n"
          ]
        }
      ]
    },
    {
      "cell_type": "code",
      "source": [
        "#function parameters and arguments\n",
        "def print_twice(arg1) :\n",
        "  print(arg1)\n",
        "  print(arg1)\n",
        "\n",
        "\n",
        "\n",
        "print_twice(math.pi)\n",
        "print_twice('Spam'*4)"
      ],
      "metadata": {
        "colab": {
          "base_uri": "https://localhost:8080/"
        },
        "id": "H1tbU7wfIgWi",
        "outputId": "4780a78b-2957-4c4e-ea4d-72c5e646b015"
      },
      "execution_count": null,
      "outputs": [
        {
          "output_type": "stream",
          "name": "stdout",
          "text": [
            "3.141592653589793\n",
            "3.141592653589793\n",
            "SpamSpamSpamSpam\n",
            "SpamSpamSpamSpam\n"
          ]
        }
      ]
    },
    {
      "cell_type": "code",
      "source": [
        "#function returns\n",
        "def print_twice(arg1):\n",
        "  print(arg1)\n",
        "  print(arg1)\n",
        "result= print_twice('Bing')\n",
        "print(result)"
      ],
      "metadata": {
        "colab": {
          "base_uri": "https://localhost:8080/"
        },
        "id": "fEfOM_VMJRrR",
        "outputId": "167994b8-a212-4d01-b129-bc346a400dc4"
      },
      "execution_count": null,
      "outputs": [
        {
          "output_type": "stream",
          "name": "stdout",
          "text": [
            "Bing\n",
            "Bing\n",
            "None\n"
          ]
        }
      ]
    },
    {
      "cell_type": "code",
      "source": [
        "#function returns\n",
        "def print_twice(arg1,arg2):\n",
        "  return(arg1,arg2)\n",
        "  #return (arg1,arg2) *2\n",
        "\n",
        "result1,result2 = print_twice('Bing', 'Nida')\n",
        "print(result1)\n",
        "print(result2)"
      ],
      "metadata": {
        "colab": {
          "base_uri": "https://localhost:8080/"
        },
        "id": "9HPQGi4YJwR5",
        "outputId": "a1ab18de-02e7-4b88-aae8-b214c8a7b905"
      },
      "execution_count": null,
      "outputs": [
        {
          "output_type": "stream",
          "name": "stdout",
          "text": [
            "Bing\n",
            "Nida\n"
          ]
        }
      ]
    },
    {
      "cell_type": "code",
      "source": [
        "#function checking type of arguments- recursive\n",
        "def factorial(n):\n",
        "  if not isinstance(n, int):\n",
        "    print( \"factorial is only defined for integers\")\n",
        "    return None\n",
        "  elif n < 0 :\n",
        "    print (\"factorial is not defined for negative numbers\")\n",
        "    return None\n",
        "  elif n == 0 :\n",
        "    return 1\n",
        "  else :\n",
        "    return n*factorial(n-1)\n",
        "\n",
        "factorial (-3.14)"
      ],
      "metadata": {
        "colab": {
          "base_uri": "https://localhost:8080/"
        },
        "id": "Z1m7w4HILz8L",
        "outputId": "ea625a93-fa12-4b8b-cfad-1e6a70180358"
      },
      "execution_count": null,
      "outputs": [
        {
          "output_type": "stream",
          "name": "stdout",
          "text": [
            "factorial is only defined for integers\n"
          ]
        }
      ]
    },
    {
      "cell_type": "code",
      "source": [
        "#default arguments/ function overloading\n",
        "def func1(arg1, arg2=None):\n",
        "  if arg2 is None:\n",
        "    print(arg1)\n",
        "  else:\n",
        "    print(arg1,arg2)\n",
        "\n",
        "func1('hello')\n",
        "\n",
        "func1('hello' , 'world')"
      ],
      "metadata": {
        "colab": {
          "base_uri": "https://localhost:8080/"
        },
        "id": "paRoPxnHOoQb",
        "outputId": "57edaf09-8117-4ea2-be1f-8e7fc0615650"
      },
      "execution_count": null,
      "outputs": [
        {
          "output_type": "stream",
          "name": "stdout",
          "text": [
            "hello\n",
            "hello world\n"
          ]
        }
      ]
    },
    {
      "cell_type": "code",
      "source": [
        "from math import pi\n",
        "print (pi)"
      ],
      "metadata": {
        "colab": {
          "base_uri": "https://localhost:8080/"
        },
        "id": "UK4CbhjQRNpr",
        "outputId": "c77f0a92-3633-42b6-a602-c2fbe33ab2ec"
      },
      "execution_count": null,
      "outputs": [
        {
          "output_type": "stream",
          "name": "stdout",
          "text": [
            "3.141592653589793\n"
          ]
        }
      ]
    },
    {
      "cell_type": "code",
      "source": [
        "#global / local variables\n",
        "global_var = 1\n",
        "\n",
        "def func1():\n",
        "  global_var = 2\n",
        "  print (\"ït is set to 2\")\n",
        "func1()\n",
        "global_var"
      ],
      "metadata": {
        "colab": {
          "base_uri": "https://localhost:8080/"
        },
        "id": "gk6Vd7QWRiPg",
        "outputId": "3956d6bf-f8ec-4814-b777-2d728b57a595"
      },
      "execution_count": null,
      "outputs": [
        {
          "output_type": "stream",
          "name": "stdout",
          "text": [
            "ït is set to 2\n"
          ]
        },
        {
          "output_type": "execute_result",
          "data": {
            "text/plain": [
              "1"
            ]
          },
          "metadata": {},
          "execution_count": 106
        }
      ]
    },
    {
      "cell_type": "code",
      "source": [
        "#global / local variables\n",
        "global_var = 1\n",
        "\n",
        "def func2():\n",
        "  global global_var\n",
        "  global_var = 2\n",
        "func2()\n",
        "global_var"
      ],
      "metadata": {
        "colab": {
          "base_uri": "https://localhost:8080/"
        },
        "id": "HbdqgZrJTLJj",
        "outputId": "1e60aca8-5f15-4e50-e90e-5d62b14a2e91"
      },
      "execution_count": null,
      "outputs": [
        {
          "output_type": "execute_result",
          "data": {
            "text/plain": [
              "2"
            ]
          },
          "metadata": {},
          "execution_count": 107
        }
      ]
    },
    {
      "cell_type": "code",
      "source": [
        "#example1\n",
        "import math\n",
        "\n",
        "a=2;\n",
        "b=5;\n",
        "c=(a**2+b**2)**(0.5);\n",
        "d=math.sqrt(c)\n",
        "\n",
        "x= c/d;\n",
        "y=c*d;\n",
        "z= a* math.sin(b)\n",
        "print('Hypo c=',c)\n",
        "print('sq root d=',d)\n",
        "print('quotient=',x)\n",
        "print('product=',y)\n",
        "print('sine is',z)\n",
        "\n",
        "e=math.log(d)\n",
        "print(d)\n",
        "p= math.factorial(d)\n",
        "print (p)\n"
      ],
      "metadata": {
        "colab": {
          "base_uri": "https://localhost:8080/",
          "height": 331
        },
        "id": "OkvxajOtTgJw",
        "outputId": "8ef448d9-c714-45e1-8d08-7a0c8306844e"
      },
      "execution_count": null,
      "outputs": [
        {
          "output_type": "stream",
          "name": "stdout",
          "text": [
            "Hypo c= 5.385164807134504\n",
            "sq root d= 2.320595787106084\n",
            "quotient= 2.3205957871060834\n",
            "product= 12.496790764308276\n",
            "sine is -1.917848549326277\n",
            "2.320595787106084\n"
          ]
        },
        {
          "output_type": "error",
          "ename": "TypeError",
          "evalue": "ignored",
          "traceback": [
            "\u001b[0;31m---------------------------------------------------------------------------\u001b[0m",
            "\u001b[0;31mTypeError\u001b[0m                                 Traceback (most recent call last)",
            "\u001b[0;32m<ipython-input-111-15e3ec66d1f8>\u001b[0m in \u001b[0;36m<cell line: 20>\u001b[0;34m()\u001b[0m\n\u001b[1;32m     18\u001b[0m \u001b[0me\u001b[0m\u001b[0;34m=\u001b[0m\u001b[0mmath\u001b[0m\u001b[0;34m.\u001b[0m\u001b[0mlog\u001b[0m\u001b[0;34m(\u001b[0m\u001b[0md\u001b[0m\u001b[0;34m)\u001b[0m\u001b[0;34m\u001b[0m\u001b[0;34m\u001b[0m\u001b[0m\n\u001b[1;32m     19\u001b[0m \u001b[0mprint\u001b[0m\u001b[0;34m(\u001b[0m\u001b[0md\u001b[0m\u001b[0;34m)\u001b[0m\u001b[0;34m\u001b[0m\u001b[0;34m\u001b[0m\u001b[0m\n\u001b[0;32m---> 20\u001b[0;31m \u001b[0mp\u001b[0m\u001b[0;34m=\u001b[0m \u001b[0mmath\u001b[0m\u001b[0;34m.\u001b[0m\u001b[0mfactorial\u001b[0m\u001b[0;34m(\u001b[0m\u001b[0md\u001b[0m\u001b[0;34m)\u001b[0m\u001b[0;34m\u001b[0m\u001b[0;34m\u001b[0m\u001b[0m\n\u001b[0m\u001b[1;32m     21\u001b[0m \u001b[0mprint\u001b[0m \u001b[0;34m(\u001b[0m\u001b[0mp\u001b[0m\u001b[0;34m)\u001b[0m\u001b[0;34m\u001b[0m\u001b[0;34m\u001b[0m\u001b[0m\n",
            "\u001b[0;31mTypeError\u001b[0m: 'float' object cannot be interpreted as an integer"
          ]
        }
      ]
    },
    {
      "cell_type": "code",
      "source": [
        "from os import MFD_HUGE_1GB\n",
        "from scipy import *\n",
        "from numpy import *\n",
        "\n",
        "M1=array([[1,2,3],[3,4,5],[1,2,1]])\n",
        "M2=array([[0,1,2],[3,4,5],[7,8,2]])\n",
        "\n",
        "M3= M1*M2\n",
        "M4= 2*M1\n",
        "import numpy\n",
        "print('\\n M1=',M1)\n",
        "print('\\n M2=',M2)\n",
        "print('\\n M3=',M3)\n",
        "print('\\n M4=',M4)\n",
        "print(numpy.linalg.inv(M3))\n",
        "print(M3.T)"
      ],
      "metadata": {
        "colab": {
          "base_uri": "https://localhost:8080/"
        },
        "id": "puUKGUuKVkWr",
        "outputId": "b20efc8d-6ee8-4d02-9653-8a9ca7775ba5"
      },
      "execution_count": null,
      "outputs": [
        {
          "output_type": "stream",
          "name": "stdout",
          "text": [
            "\n",
            " M1= [[1 2 3]\n",
            " [3 4 5]\n",
            " [1 2 1]]\n",
            "\n",
            " M2= [[0 1 2]\n",
            " [3 4 5]\n",
            " [7 8 2]]\n",
            "\n",
            " M3= [[ 0  2  6]\n",
            " [ 9 16 25]\n",
            " [ 7 16  2]]\n",
            "\n",
            " M4= [[ 2  4  6]\n",
            " [ 6  8 10]\n",
            " [ 2  4  2]]\n",
            "[[-0.72727273  0.18181818 -0.09090909]\n",
            " [ 0.31027668 -0.08300395  0.10671937]\n",
            " [ 0.06324111  0.02766798 -0.03557312]]\n",
            "[[ 0  9  7]\n",
            " [ 2 16 16]\n",
            " [ 6 25  2]]\n"
          ]
        }
      ]
    }
  ]
}